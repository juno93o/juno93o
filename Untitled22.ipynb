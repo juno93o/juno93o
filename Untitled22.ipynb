{
  "nbformat": 4,
  "nbformat_minor": 0,
  "metadata": {
    "colab": {
      "name": "Untitled22.ipynb",
      "provenance": [],
      "authorship_tag": "ABX9TyPgd1XmrJSeoqEp5CQlLMOL",
      "include_colab_link": true
    },
    "kernelspec": {
      "name": "python3",
      "display_name": "Python 3"
    },
    "language_info": {
      "name": "python"
    }
  },
  "cells": [
    {
      "cell_type": "markdown",
      "metadata": {
        "id": "view-in-github",
        "colab_type": "text"
      },
      "source": [
        "<a href=\"https://colab.research.google.com/github/juno93o/juno93o/blob/main/Untitled22.ipynb\" target=\"_parent\"><img src=\"https://colab.research.google.com/assets/colab-badge.svg\" alt=\"Open In Colab\"/></a>"
      ]
    },
    {
      "cell_type": "code",
      "execution_count": 1,
      "metadata": {
        "id": "HVlTCPYBcChD"
      },
      "outputs": [],
      "source": [
        "#2022학년도 1학년 1학기 프로그래밍(파이썬) 수행평가\n",
        "#한양공업고등학교 1학년 12반 20번 하승준"
      ]
    },
    {
      "cell_type": "code",
      "source": [
        "#1. 변수 사용하기\n",
        "삼성전자 = 50000\n",
        "print(삼성전자 * 10)"
      ],
      "metadata": {
        "colab": {
          "base_uri": "https://localhost:8080/"
        },
        "id": "_fx9N9KKce92",
        "outputId": "2b396cff-c258-4370-9609-0ff37cdd5123"
      },
      "execution_count": 2,
      "outputs": [
        {
          "output_type": "stream",
          "name": "stdout",
          "text": [
            "500000\n"
          ]
        }
      ]
    },
    {
      "cell_type": "code",
      "source": [
        "#2\n",
        "year = \"2020\"\n",
        "print(int(year))\n",
        "print(int(year)-1)\n",
        "print(int(year)-2)"
      ],
      "metadata": {
        "colab": {
          "base_uri": "https://localhost:8080/"
        },
        "id": "W6PlTYeDcodM",
        "outputId": "678ae296-68cd-4ee9-cd44-ac0c8f55e272"
      },
      "execution_count": 4,
      "outputs": [
        {
          "output_type": "stream",
          "name": "stdout",
          "text": [
            "2020\n",
            "2019\n",
            "2018\n"
          ]
        }
      ]
    },
    {
      "cell_type": "code",
      "source": [
        "#3\n",
        "string = \"홀짝홀짝홀짝\"\n",
        "print(string[::+2])"
      ],
      "metadata": {
        "colab": {
          "base_uri": "https://localhost:8080/"
        },
        "id": "m8zJdazHc5M6",
        "outputId": "d30f7fdb-86f8-49d6-a671-c4b9c2a410b5"
      },
      "execution_count": 11,
      "outputs": [
        {
          "output_type": "stream",
          "name": "stdout",
          "text": [
            "홀홀홀\n"
          ]
        }
      ]
    },
    {
      "cell_type": "code",
      "source": [
        "#4\n",
        "string = \"PYTHON\"\n",
        "print(string[-1::-1])"
      ],
      "metadata": {
        "colab": {
          "base_uri": "https://localhost:8080/"
        },
        "id": "owbHr6gedy-W",
        "outputId": "7f62c7ef-0ee6-4ee9-ec37-92b21caa643c"
      },
      "execution_count": 10,
      "outputs": [
        {
          "output_type": "stream",
          "name": "stdout",
          "text": [
            "NOHTYP\n"
          ]
        }
      ]
    },
    {
      "cell_type": "code",
      "source": [
        "#5\n",
        "movie_rank = [\"닥터스트레인지\",\"스플릿\",\"럭키\",\"베트맨\"]\n",
        "movie_rank.insert(1,\"슈퍼맨\")\n",
        "movie_rank"
      ],
      "metadata": {
        "colab": {
          "base_uri": "https://localhost:8080/"
        },
        "id": "NSZnfXm6dCrg",
        "outputId": "ac2faa3d-f96c-41cf-8c8c-06f488ff1d0a"
      },
      "execution_count": 8,
      "outputs": [
        {
          "output_type": "execute_result",
          "data": {
            "text/plain": [
              "['닥터스트레인지', '슈퍼맨', '스플릿', '럭키', '베트맨']"
            ]
          },
          "metadata": {},
          "execution_count": 8
        }
      ]
    },
    {
      "cell_type": "code",
      "source": [
        "#6\n",
        "num=[1,2,3,4,5,6,7,8,9,10]\n",
        "list(range(1,10,2))"
      ],
      "metadata": {
        "colab": {
          "base_uri": "https://localhost:8080/"
        },
        "id": "R9VZz3T3eHxT",
        "outputId": "f016aabe-6cd7-448e-fe67-2c7dc96d1731"
      },
      "execution_count": 12,
      "outputs": [
        {
          "output_type": "execute_result",
          "data": {
            "text/plain": [
              "[1, 3, 5, 7, 9]"
            ]
          },
          "metadata": {},
          "execution_count": 12
        }
      ]
    },
    {
      "cell_type": "code",
      "source": [
        "#7\n",
        "data=[2,4,3,1,5,10,9]\n",
        "data.sort()\n",
        "print(data)"
      ],
      "metadata": {
        "colab": {
          "base_uri": "https://localhost:8080/"
        },
        "id": "_ixaRA43eQcn",
        "outputId": "17b68384-0aa8-4cd8-a9da-12822385ad6d"
      },
      "execution_count": 15,
      "outputs": [
        {
          "output_type": "stream",
          "name": "stdout",
          "text": [
            "[1, 2, 3, 4, 5, 9, 10]\n"
          ]
        }
      ]
    },
    {
      "cell_type": "code",
      "source": [
        "#8\n",
        "namel=\"김민수\"\n",
        "agel=10\n",
        "name2=\"이철희\"\n",
        "age2=13\n",
        "a=\"이름;{}, 나이:{}\"\n",
        "b=\"이름;{}, 나이:{}\"\n",
        "print(a. format(namel , agel))\n",
        "print(b. format(name2 , age2))"
      ],
      "metadata": {
        "colab": {
          "base_uri": "https://localhost:8080/"
        },
        "id": "aPwkc5hGehX9",
        "outputId": "3d015a65-f00b-4701-f418-b2e922b499d9"
      },
      "execution_count": 17,
      "outputs": [
        {
          "output_type": "stream",
          "name": "stdout",
          "text": [
            "이름;김민수, 나이:10\n",
            "이름;이철희, 나이:13\n"
          ]
        }
      ]
    }
  ]
}